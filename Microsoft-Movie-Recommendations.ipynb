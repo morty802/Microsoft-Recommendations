{
 "cells": [
  {
   "cell_type": "markdown",
   "metadata": {},
   "source": [
    "# Microsoft Movie Magic! \n",
    "\n",
    "**Author:** Taylor Morton"
   ]
  },
  {
   "cell_type": "markdown",
   "metadata": {},
   "source": [
    "## Overview\n",
    "\n",
    "For this project, you will use exploratory data analysis to generate insights for a business stakeholder."
   ]
  },
  {
   "cell_type": "markdown",
   "metadata": {},
   "source": [
    "## Business Problem\n",
    "\n",
    "Microsoft sees all the big companies creating original video content and they want to get in on the fun. They have decided to create a new movie studio, but they dont know anything about creating movies. You are charged with exploring what types of films are currently doing the best at the box office. You must then translate those findings into actionable insights that the head of Microsoft's new movie studio can use to help decide what type of films to create.\n",
    "\n",
    "***\n",
    "Questions to consider:\n",
    "* **What are the business's main points related to this project?**\n",
    "\n",
    "Microsoft has little to no experience in creating movies, and are hoping to produce some box office hits that will be profitable. \n",
    "\n",
    "\n",
    "* **How did you pick the data analysis question(s) that you did?**\n",
    "  \n",
    "  **Movie Gross** - To better understand how much money was brought in by movies. The company is wanting to know how to make movies that are successful at the box office. (includes domestic and foreign gross income)\n",
    "  \n",
    "  **Title and Genre** - To understand how the type of movie could indicate an easy start of success for the company. \n",
    "  \n",
    "  \n",
    "* **Why are these questions important from a business perspective?**\n",
    "***\n",
    "\n",
    "* **Independent Variables**: \n",
    "\n",
    "- Popularity & Vote Average, Release Date, Title, Gross\n",
    "- D. Gross, F. Gross, Release Dates \n",
    "\n",
    "\n",
    "\n",
    "**Research Questions?**\n",
    "\n",
    "Which release dates (months of the year) would I recommend to Microsoft for their new films? \n",
    "\n",
    "\n",
    "What genres of movies make the highest domestic and foreign gross income? \n",
    "\n",
    "\n",
    "Which movies have the largest return on investment? (comparing gross income to budget)"
   ]
  },
  {
   "cell_type": "markdown",
   "metadata": {},
   "source": [
    "## Data Understanding\n",
    "\n",
    "Describe the data being used for this project.\n",
    "***\n",
    "Questions to consider:\n",
    "* Where did the data come from, and how do they relate to the data analysis questions?\n",
    "* What do the data represent? Who is in the sample and what variables are included?\n",
    "* What is the target variable?\n",
    "* What are the properties of the variables you intend to use?\n",
    "***"
   ]
  },
  {
   "cell_type": "code",
   "execution_count": 2,
   "metadata": {},
   "outputs": [],
   "source": [
    "# Import standard packages\n",
    "import pandas as pd\n",
    "import numpy as np\n",
    "import matplotlib.pyplot as plt\n",
    "import seaborn as sns\n",
    "import os\n",
    "\n",
    "%matplotlib inline"
   ]
  },
  {
   "cell_type": "code",
   "execution_count": 3,
   "metadata": {},
   "outputs": [
    {
     "data": {
      "text/plain": [
       "['imdb.title.crew.csv.gz',\n",
       " 'tmdb.movies.csv.gz',\n",
       " 'imdb.title.akas.csv.gz',\n",
       " 'imdb.title.ratings.csv.gz',\n",
       " 'imdb.name.basics.csv.gz',\n",
       " 'rt.reviews.tsv.gz',\n",
       " 'imdb.title.basics.csv.gz',\n",
       " 'rt.movie_info.tsv.gz',\n",
       " 'tn.movie_budgets.csv.gz',\n",
       " 'bom.movie_gross.csv.gz',\n",
       " 'imdb.title.principals.csv.gz']"
      ]
     },
     "execution_count": 3,
     "metadata": {},
     "output_type": "execute_result"
    }
   ],
   "source": [
    "os.listdir('data/zippedData')"
   ]
  },
  {
   "cell_type": "code",
   "execution_count": 4,
   "metadata": {},
   "outputs": [
    {
     "data": {
      "text/html": [
       "<div>\n",
       "<style scoped>\n",
       "    .dataframe tbody tr th:only-of-type {\n",
       "        vertical-align: middle;\n",
       "    }\n",
       "\n",
       "    .dataframe tbody tr th {\n",
       "        vertical-align: top;\n",
       "    }\n",
       "\n",
       "    .dataframe thead th {\n",
       "        text-align: right;\n",
       "    }\n",
       "</style>\n",
       "<table border=\"1\" class=\"dataframe\">\n",
       "  <thead>\n",
       "    <tr style=\"text-align: right;\">\n",
       "      <th></th>\n",
       "      <th>tconst</th>\n",
       "      <th>primary_title</th>\n",
       "      <th>original_title</th>\n",
       "      <th>start_year</th>\n",
       "      <th>runtime_minutes</th>\n",
       "      <th>genres</th>\n",
       "    </tr>\n",
       "  </thead>\n",
       "  <tbody>\n",
       "    <tr>\n",
       "      <th>0</th>\n",
       "      <td>tt0063540</td>\n",
       "      <td>Sunghursh</td>\n",
       "      <td>Sunghursh</td>\n",
       "      <td>2013</td>\n",
       "      <td>175.0</td>\n",
       "      <td>Action</td>\n",
       "    </tr>\n",
       "    <tr>\n",
       "      <th>0</th>\n",
       "      <td>tt0063540</td>\n",
       "      <td>Sunghursh</td>\n",
       "      <td>Sunghursh</td>\n",
       "      <td>2013</td>\n",
       "      <td>175.0</td>\n",
       "      <td>Crime</td>\n",
       "    </tr>\n",
       "    <tr>\n",
       "      <th>0</th>\n",
       "      <td>tt0063540</td>\n",
       "      <td>Sunghursh</td>\n",
       "      <td>Sunghursh</td>\n",
       "      <td>2013</td>\n",
       "      <td>175.0</td>\n",
       "      <td>Drama</td>\n",
       "    </tr>\n",
       "    <tr>\n",
       "      <th>1</th>\n",
       "      <td>tt0066787</td>\n",
       "      <td>One Day Before the Rainy Season</td>\n",
       "      <td>Ashad Ka Ek Din</td>\n",
       "      <td>2019</td>\n",
       "      <td>114.0</td>\n",
       "      <td>Biography</td>\n",
       "    </tr>\n",
       "    <tr>\n",
       "      <th>1</th>\n",
       "      <td>tt0066787</td>\n",
       "      <td>One Day Before the Rainy Season</td>\n",
       "      <td>Ashad Ka Ek Din</td>\n",
       "      <td>2019</td>\n",
       "      <td>114.0</td>\n",
       "      <td>Drama</td>\n",
       "    </tr>\n",
       "    <tr>\n",
       "      <th>2</th>\n",
       "      <td>tt0069049</td>\n",
       "      <td>The Other Side of the Wind</td>\n",
       "      <td>The Other Side of the Wind</td>\n",
       "      <td>2018</td>\n",
       "      <td>122.0</td>\n",
       "      <td>Drama</td>\n",
       "    </tr>\n",
       "    <tr>\n",
       "      <th>3</th>\n",
       "      <td>tt0069204</td>\n",
       "      <td>Sabse Bada Sukh</td>\n",
       "      <td>Sabse Bada Sukh</td>\n",
       "      <td>2018</td>\n",
       "      <td>NaN</td>\n",
       "      <td>Comedy</td>\n",
       "    </tr>\n",
       "    <tr>\n",
       "      <th>3</th>\n",
       "      <td>tt0069204</td>\n",
       "      <td>Sabse Bada Sukh</td>\n",
       "      <td>Sabse Bada Sukh</td>\n",
       "      <td>2018</td>\n",
       "      <td>NaN</td>\n",
       "      <td>Drama</td>\n",
       "    </tr>\n",
       "    <tr>\n",
       "      <th>4</th>\n",
       "      <td>tt0100275</td>\n",
       "      <td>The Wandering Soap Opera</td>\n",
       "      <td>La Telenovela Errante</td>\n",
       "      <td>2017</td>\n",
       "      <td>80.0</td>\n",
       "      <td>Comedy</td>\n",
       "    </tr>\n",
       "    <tr>\n",
       "      <th>4</th>\n",
       "      <td>tt0100275</td>\n",
       "      <td>The Wandering Soap Opera</td>\n",
       "      <td>La Telenovela Errante</td>\n",
       "      <td>2017</td>\n",
       "      <td>80.0</td>\n",
       "      <td>Drama</td>\n",
       "    </tr>\n",
       "  </tbody>\n",
       "</table>\n",
       "</div>"
      ],
      "text/plain": [
       "      tconst                    primary_title              original_title  \\\n",
       "0  tt0063540                        Sunghursh                   Sunghursh   \n",
       "0  tt0063540                        Sunghursh                   Sunghursh   \n",
       "0  tt0063540                        Sunghursh                   Sunghursh   \n",
       "1  tt0066787  One Day Before the Rainy Season             Ashad Ka Ek Din   \n",
       "1  tt0066787  One Day Before the Rainy Season             Ashad Ka Ek Din   \n",
       "2  tt0069049       The Other Side of the Wind  The Other Side of the Wind   \n",
       "3  tt0069204                  Sabse Bada Sukh             Sabse Bada Sukh   \n",
       "3  tt0069204                  Sabse Bada Sukh             Sabse Bada Sukh   \n",
       "4  tt0100275         The Wandering Soap Opera       La Telenovela Errante   \n",
       "4  tt0100275         The Wandering Soap Opera       La Telenovela Errante   \n",
       "\n",
       "   start_year  runtime_minutes     genres  \n",
       "0        2013            175.0     Action  \n",
       "0        2013            175.0      Crime  \n",
       "0        2013            175.0      Drama  \n",
       "1        2019            114.0  Biography  \n",
       "1        2019            114.0      Drama  \n",
       "2        2018            122.0      Drama  \n",
       "3        2018              NaN     Comedy  \n",
       "3        2018              NaN      Drama  \n",
       "4        2017             80.0     Comedy  \n",
       "4        2017             80.0      Drama  "
      ]
     },
     "execution_count": 4,
     "metadata": {},
     "output_type": "execute_result"
    }
   ],
   "source": [
    "genres_df = pd.read_csv('data/zippedData/imdb.title.basics.csv.gz')\n",
    "genres_df.dropna(subset=['genres'], inplace=True)\n",
    "genres_df['genres'] = genres_df['genres'].apply(lambda x: x.split(','))\n",
    "genres_df = genres_df.explode('genres')\n",
    "genres_df.head(10)"
   ]
  },
  {
   "cell_type": "code",
   "execution_count": 5,
   "metadata": {},
   "outputs": [
    {
     "data": {
      "text/html": [
       "<div>\n",
       "<style scoped>\n",
       "    .dataframe tbody tr th:only-of-type {\n",
       "        vertical-align: middle;\n",
       "    }\n",
       "\n",
       "    .dataframe tbody tr th {\n",
       "        vertical-align: top;\n",
       "    }\n",
       "\n",
       "    .dataframe thead th {\n",
       "        text-align: right;\n",
       "    }\n",
       "</style>\n",
       "<table border=\"1\" class=\"dataframe\">\n",
       "  <thead>\n",
       "    <tr style=\"text-align: right;\">\n",
       "      <th></th>\n",
       "      <th>start_year</th>\n",
       "      <th>runtime_minutes</th>\n",
       "    </tr>\n",
       "    <tr>\n",
       "      <th>genres</th>\n",
       "      <th></th>\n",
       "      <th></th>\n",
       "    </tr>\n",
       "  </thead>\n",
       "  <tbody>\n",
       "    <tr>\n",
       "      <th>Action</th>\n",
       "      <td>2014.689695</td>\n",
       "      <td>100.019729</td>\n",
       "    </tr>\n",
       "    <tr>\n",
       "      <th>Adult</th>\n",
       "      <td>2016.520000</td>\n",
       "      <td>86.285714</td>\n",
       "    </tr>\n",
       "    <tr>\n",
       "      <th>Adventure</th>\n",
       "      <td>2014.491261</td>\n",
       "      <td>85.782404</td>\n",
       "    </tr>\n",
       "    <tr>\n",
       "      <th>Animation</th>\n",
       "      <td>2014.883530</td>\n",
       "      <td>80.674520</td>\n",
       "    </tr>\n",
       "    <tr>\n",
       "      <th>Biography</th>\n",
       "      <td>2013.951502</td>\n",
       "      <td>74.129960</td>\n",
       "    </tr>\n",
       "    <tr>\n",
       "      <th>Comedy</th>\n",
       "      <td>2014.521689</td>\n",
       "      <td>93.920165</td>\n",
       "    </tr>\n",
       "    <tr>\n",
       "      <th>Crime</th>\n",
       "      <td>2014.646972</td>\n",
       "      <td>95.508631</td>\n",
       "    </tr>\n",
       "    <tr>\n",
       "      <th>Documentary</th>\n",
       "      <td>2014.406410</td>\n",
       "      <td>72.107879</td>\n",
       "    </tr>\n",
       "    <tr>\n",
       "      <th>Drama</th>\n",
       "      <td>2014.526713</td>\n",
       "      <td>94.281372</td>\n",
       "    </tr>\n",
       "    <tr>\n",
       "      <th>Family</th>\n",
       "      <td>2014.250843</td>\n",
       "      <td>83.192047</td>\n",
       "    </tr>\n",
       "    <tr>\n",
       "      <th>Fantasy</th>\n",
       "      <td>2014.752560</td>\n",
       "      <td>91.918707</td>\n",
       "    </tr>\n",
       "    <tr>\n",
       "      <th>Game-Show</th>\n",
       "      <td>2015.000000</td>\n",
       "      <td>117.000000</td>\n",
       "    </tr>\n",
       "    <tr>\n",
       "      <th>History</th>\n",
       "      <td>2013.891727</td>\n",
       "      <td>78.756430</td>\n",
       "    </tr>\n",
       "    <tr>\n",
       "      <th>Horror</th>\n",
       "      <td>2014.800555</td>\n",
       "      <td>87.351383</td>\n",
       "    </tr>\n",
       "    <tr>\n",
       "      <th>Music</th>\n",
       "      <td>2013.989569</td>\n",
       "      <td>82.339474</td>\n",
       "    </tr>\n",
       "    <tr>\n",
       "      <th>Musical</th>\n",
       "      <td>2014.415385</td>\n",
       "      <td>95.423684</td>\n",
       "    </tr>\n",
       "    <tr>\n",
       "      <th>Mystery</th>\n",
       "      <td>2014.655291</td>\n",
       "      <td>93.233888</td>\n",
       "    </tr>\n",
       "    <tr>\n",
       "      <th>News</th>\n",
       "      <td>2013.000000</td>\n",
       "      <td>66.418635</td>\n",
       "    </tr>\n",
       "    <tr>\n",
       "      <th>Reality-TV</th>\n",
       "      <td>2015.265306</td>\n",
       "      <td>80.233333</td>\n",
       "    </tr>\n",
       "    <tr>\n",
       "      <th>Romance</th>\n",
       "      <td>2014.429577</td>\n",
       "      <td>100.219710</td>\n",
       "    </tr>\n",
       "    <tr>\n",
       "      <th>Sci-Fi</th>\n",
       "      <td>2014.800000</td>\n",
       "      <td>90.547855</td>\n",
       "    </tr>\n",
       "    <tr>\n",
       "      <th>Short</th>\n",
       "      <td>2016.454545</td>\n",
       "      <td>16.400000</td>\n",
       "    </tr>\n",
       "    <tr>\n",
       "      <th>Sport</th>\n",
       "      <td>2014.299015</td>\n",
       "      <td>80.939456</td>\n",
       "    </tr>\n",
       "    <tr>\n",
       "      <th>Talk-Show</th>\n",
       "      <td>2014.800000</td>\n",
       "      <td>86.736842</td>\n",
       "    </tr>\n",
       "    <tr>\n",
       "      <th>Thriller</th>\n",
       "      <td>2014.833628</td>\n",
       "      <td>94.351337</td>\n",
       "    </tr>\n",
       "    <tr>\n",
       "      <th>War</th>\n",
       "      <td>2014.362278</td>\n",
       "      <td>87.136697</td>\n",
       "    </tr>\n",
       "    <tr>\n",
       "      <th>Western</th>\n",
       "      <td>2014.595289</td>\n",
       "      <td>100.332474</td>\n",
       "    </tr>\n",
       "  </tbody>\n",
       "</table>\n",
       "</div>"
      ],
      "text/plain": [
       "              start_year  runtime_minutes\n",
       "genres                                   \n",
       "Action       2014.689695       100.019729\n",
       "Adult        2016.520000        86.285714\n",
       "Adventure    2014.491261        85.782404\n",
       "Animation    2014.883530        80.674520\n",
       "Biography    2013.951502        74.129960\n",
       "Comedy       2014.521689        93.920165\n",
       "Crime        2014.646972        95.508631\n",
       "Documentary  2014.406410        72.107879\n",
       "Drama        2014.526713        94.281372\n",
       "Family       2014.250843        83.192047\n",
       "Fantasy      2014.752560        91.918707\n",
       "Game-Show    2015.000000       117.000000\n",
       "History      2013.891727        78.756430\n",
       "Horror       2014.800555        87.351383\n",
       "Music        2013.989569        82.339474\n",
       "Musical      2014.415385        95.423684\n",
       "Mystery      2014.655291        93.233888\n",
       "News         2013.000000        66.418635\n",
       "Reality-TV   2015.265306        80.233333\n",
       "Romance      2014.429577       100.219710\n",
       "Sci-Fi       2014.800000        90.547855\n",
       "Short        2016.454545        16.400000\n",
       "Sport        2014.299015        80.939456\n",
       "Talk-Show    2014.800000        86.736842\n",
       "Thriller     2014.833628        94.351337\n",
       "War          2014.362278        87.136697\n",
       "Western      2014.595289       100.332474"
      ]
     },
     "execution_count": 5,
     "metadata": {},
     "output_type": "execute_result"
    }
   ],
   "source": [
    "genres_df.groupby('genres').mean()"
   ]
  },
  {
   "cell_type": "code",
   "execution_count": 6,
   "metadata": {},
   "outputs": [
    {
     "name": "stdout",
     "output_type": "stream",
     "text": [
      "<class 'pandas.core.frame.DataFrame'>\n",
      "RangeIndex: 26517 entries, 0 to 26516\n",
      "Data columns (total 10 columns):\n",
      " #   Column             Non-Null Count  Dtype  \n",
      "---  ------             --------------  -----  \n",
      " 0   Unnamed: 0         26517 non-null  int64  \n",
      " 1   genre_ids          26517 non-null  object \n",
      " 2   id                 26517 non-null  int64  \n",
      " 3   original_language  26517 non-null  object \n",
      " 4   original_title     26517 non-null  object \n",
      " 5   popularity         26517 non-null  float64\n",
      " 6   release_date       26517 non-null  object \n",
      " 7   title              26517 non-null  object \n",
      " 8   vote_average       26517 non-null  float64\n",
      " 9   vote_count         26517 non-null  int64  \n",
      "dtypes: float64(2), int64(3), object(5)\n",
      "memory usage: 2.0+ MB\n"
     ]
    }
   ],
   "source": [
    "mo = pd.read_csv('data/zippedData/tmdb.movies.csv.gz')\n",
    "mo.info()\n",
    "\n",
    "#GenreIDs\n",
    "#Popularity\n",
    "#Release Date \n",
    "#Vote Average"
   ]
  },
  {
   "cell_type": "code",
   "execution_count": 7,
   "metadata": {},
   "outputs": [],
   "source": [
    "#rt_movie_ = pd.read_csv('data/zippedData/rt.movie_info.tsv.gz', sep = '\\t')\n",
    "#rt_movie_.head(3)"
   ]
  },
  {
   "cell_type": "code",
   "execution_count": 8,
   "metadata": {},
   "outputs": [
    {
     "name": "stdout",
     "output_type": "stream",
     "text": [
      "<class 'pandas.core.frame.DataFrame'>\n",
      "RangeIndex: 3387 entries, 0 to 3386\n",
      "Data columns (total 5 columns):\n",
      " #   Column          Non-Null Count  Dtype  \n",
      "---  ------          --------------  -----  \n",
      " 0   title           3387 non-null   object \n",
      " 1   studio          3382 non-null   object \n",
      " 2   domestic_gross  3359 non-null   float64\n",
      " 3   foreign_gross   2037 non-null   object \n",
      " 4   year            3387 non-null   int64  \n",
      "dtypes: float64(1), int64(1), object(3)\n",
      "memory usage: 132.4+ KB\n"
     ]
    }
   ],
   "source": [
    "gs = pd.read_csv('data/zippedData/bom.movie_gross.csv.gz')\n",
    "gs.info()\n",
    "\n",
    "#Dgross\n",
    "#Fgross\n",
    "#Title?"
   ]
  },
  {
   "cell_type": "code",
   "execution_count": 9,
   "metadata": {},
   "outputs": [
    {
     "name": "stdout",
     "output_type": "stream",
     "text": [
      "<class 'pandas.core.frame.DataFrame'>\n",
      "RangeIndex: 5782 entries, 0 to 5781\n",
      "Data columns (total 6 columns):\n",
      " #   Column             Non-Null Count  Dtype \n",
      "---  ------             --------------  ----- \n",
      " 0   id                 5782 non-null   int64 \n",
      " 1   release_date       5782 non-null   object\n",
      " 2   movie              5782 non-null   object\n",
      " 3   production_budget  5782 non-null   object\n",
      " 4   domestic_gross     5782 non-null   object\n",
      " 5   worldwide_gross    5782 non-null   object\n",
      "dtypes: int64(1), object(5)\n",
      "memory usage: 271.2+ KB\n"
     ]
    }
   ],
   "source": [
    "bud = pd.read_csv('data/zippedData/tn.movie_budgets.csv.gz')\n",
    "bud.head(10)\n",
    "\n",
    "#ReleaseDate\n",
    "#Budget\n",
    "#Gross\n",
    "#Movie \n",
    "\n",
    "bud.info()"
   ]
  },
  {
   "cell_type": "markdown",
   "metadata": {},
   "source": [
    "## Data Preparation\n",
    "\n",
    "Describe and justify the process for preparing the data for analysis.\n",
    "\n",
    "***\n",
    "Questions to consider:\n",
    "* Were there variables you dropped or created?\n",
    "* How did you address missing values or outliers?\n",
    "* Why are these choices appropriate given the data and the business problem?\n",
    "***"
   ]
  },
  {
   "cell_type": "markdown",
   "metadata": {},
   "source": [
    "## Which Release Dates (months of the year) would I recommend to Microsoft for their new films? "
   ]
  },
  {
   "cell_type": "code",
   "execution_count": 11,
   "metadata": {
    "scrolled": false
   },
   "outputs": [
    {
     "name": "stdout",
     "output_type": "stream",
     "text": [
      "<class 'pandas.core.frame.DataFrame'>\n",
      "RangeIndex: 26517 entries, 0 to 26516\n",
      "Data columns (total 10 columns):\n",
      " #   Column             Non-Null Count  Dtype  \n",
      "---  ------             --------------  -----  \n",
      " 0   Unnamed: 0         26517 non-null  int64  \n",
      " 1   genre_ids          26517 non-null  object \n",
      " 2   id                 26517 non-null  int64  \n",
      " 3   original_language  26517 non-null  object \n",
      " 4   original_title     26517 non-null  object \n",
      " 5   popularity         26517 non-null  float64\n",
      " 6   release_date       26517 non-null  object \n",
      " 7   title              26517 non-null  object \n",
      " 8   vote_average       26517 non-null  float64\n",
      " 9   vote_count         26517 non-null  int64  \n",
      "dtypes: float64(2), int64(3), object(5)\n",
      "memory usage: 2.0+ MB\n"
     ]
    }
   ],
   "source": [
    "mo.info()"
   ]
  },
  {
   "cell_type": "code",
   "execution_count": 12,
   "metadata": {
    "scrolled": true
   },
   "outputs": [
    {
     "data": {
      "text/plain": [
       "Index(['Unnamed: 0', 'genre_ids', 'id', 'original_language', 'original_title',\n",
       "       'popularity', 'release_date', 'title', 'vote_average', 'vote_count'],\n",
       "      dtype='object')"
      ]
     },
     "execution_count": 12,
     "metadata": {},
     "output_type": "execute_result"
    }
   ],
   "source": [
    "mo.columns"
   ]
  },
  {
   "cell_type": "code",
   "execution_count": 13,
   "metadata": {},
   "outputs": [
    {
     "data": {
      "text/plain": [
       "0        2010-11-19\n",
       "1        2010-03-26\n",
       "2        2010-05-07\n",
       "3        1995-11-22\n",
       "4        2010-07-16\n",
       "            ...    \n",
       "26512    2018-10-13\n",
       "26513    2018-05-01\n",
       "26514    2018-10-01\n",
       "26515    2018-06-22\n",
       "26516    2018-10-05\n",
       "Name: release_date, Length: 26517, dtype: object"
      ]
     },
     "execution_count": 13,
     "metadata": {},
     "output_type": "execute_result"
    }
   ],
   "source": [
    "mo['release_date']"
   ]
  },
  {
   "cell_type": "code",
   "execution_count": 14,
   "metadata": {},
   "outputs": [
    {
     "name": "stdout",
     "output_type": "stream",
     "text": [
      "object\n"
     ]
    }
   ],
   "source": [
    "print(mo['release_date'].dtype)"
   ]
  },
  {
   "cell_type": "code",
   "execution_count": 15,
   "metadata": {},
   "outputs": [
    {
     "data": {
      "text/plain": [
       "0    2010-11-19\n",
       "1    2010-03-26\n",
       "2    2010-05-07\n",
       "3    1995-11-22\n",
       "4    2010-07-16\n",
       "5    2010-02-11\n",
       "Name: release_date, dtype: object"
      ]
     },
     "execution_count": 15,
     "metadata": {},
     "output_type": "execute_result"
    }
   ],
   "source": [
    "mo.loc[:5, 'release_date']"
   ]
  },
  {
   "cell_type": "code",
   "execution_count": 16,
   "metadata": {},
   "outputs": [
    {
     "data": {
      "text/plain": [
       "0    2010-11-19\n",
       "1    2010-03-26\n",
       "2    2010-05-07\n",
       "3    1995-11-22\n",
       "4    2010-07-16\n",
       "Name: release_date, dtype: object"
      ]
     },
     "execution_count": 16,
     "metadata": {},
     "output_type": "execute_result"
    }
   ],
   "source": [
    "mo['release_date'].head()"
   ]
  },
  {
   "cell_type": "code",
   "execution_count": 17,
   "metadata": {},
   "outputs": [
    {
     "data": {
      "text/plain": [
       "'2010-11-19'"
      ]
     },
     "execution_count": 17,
     "metadata": {},
     "output_type": "execute_result"
    }
   ],
   "source": [
    "mo['release_date'].iloc[0] "
   ]
  },
  {
   "cell_type": "code",
   "execution_count": 18,
   "metadata": {},
   "outputs": [
    {
     "data": {
      "text/plain": [
       "0   2010-11-19\n",
       "1   2010-03-26\n",
       "Name: release_date, dtype: datetime64[ns]"
      ]
     },
     "execution_count": 18,
     "metadata": {},
     "output_type": "execute_result"
    }
   ],
   "source": [
    "pd.to_datetime(mo['release_date'], format='%Y/%m/%d').head(2)"
   ]
  },
  {
   "cell_type": "code",
   "execution_count": 19,
   "metadata": {},
   "outputs": [],
   "source": [
    "mo['monthof']=pd.to_datetime(mo['release_date']).dt.month"
   ]
  },
  {
   "cell_type": "code",
   "execution_count": 20,
   "metadata": {},
   "outputs": [
    {
     "data": {
      "text/plain": [
       "0        11\n",
       "1         3\n",
       "2         5\n",
       "3        11\n",
       "4         7\n",
       "         ..\n",
       "26512    10\n",
       "26513     5\n",
       "26514    10\n",
       "26515     6\n",
       "26516    10\n",
       "Name: monthof, Length: 26517, dtype: int64"
      ]
     },
     "execution_count": 20,
     "metadata": {},
     "output_type": "execute_result"
    }
   ],
   "source": [
    "mo['monthof']"
   ]
  },
  {
   "cell_type": "code",
   "execution_count": 21,
   "metadata": {},
   "outputs": [
    {
     "data": {
      "text/plain": [
       "0    1\n",
       "dtype: int64"
      ]
     },
     "execution_count": 21,
     "metadata": {},
     "output_type": "execute_result"
    }
   ],
   "source": [
    "mo['monthof'].mode()"
   ]
  },
  {
   "cell_type": "code",
   "execution_count": 32,
   "metadata": {},
   "outputs": [
    {
     "data": {
      "text/plain": [
       "0        33.533\n",
       "1        28.734\n",
       "2        28.515\n",
       "3        28.005\n",
       "4        27.920\n",
       "          ...  \n",
       "26512     0.600\n",
       "26513     0.600\n",
       "26514     0.600\n",
       "26515     0.600\n",
       "26516     0.600\n",
       "Name: popularity, Length: 26517, dtype: float64"
      ]
     },
     "execution_count": 32,
     "metadata": {},
     "output_type": "execute_result"
    }
   ],
   "source": [
    "mo['popularity']"
   ]
  },
  {
   "cell_type": "code",
   "execution_count": 81,
   "metadata": {},
   "outputs": [
    {
     "data": {
      "text/html": [
       "<div>\n",
       "<style scoped>\n",
       "    .dataframe tbody tr th:only-of-type {\n",
       "        vertical-align: middle;\n",
       "    }\n",
       "\n",
       "    .dataframe tbody tr th {\n",
       "        vertical-align: top;\n",
       "    }\n",
       "\n",
       "    .dataframe thead th {\n",
       "        text-align: right;\n",
       "    }\n",
       "</style>\n",
       "<table border=\"1\" class=\"dataframe\">\n",
       "  <thead>\n",
       "    <tr style=\"text-align: right;\">\n",
       "      <th></th>\n",
       "      <th>Unnamed: 0</th>\n",
       "      <th>id</th>\n",
       "      <th>popularity</th>\n",
       "      <th>vote_average</th>\n",
       "      <th>vote_count</th>\n",
       "    </tr>\n",
       "    <tr>\n",
       "      <th>monthof</th>\n",
       "      <th></th>\n",
       "      <th></th>\n",
       "      <th></th>\n",
       "      <th></th>\n",
       "      <th></th>\n",
       "    </tr>\n",
       "  </thead>\n",
       "  <tbody>\n",
       "    <tr>\n",
       "      <th>1</th>\n",
       "      <td>12421.901980</td>\n",
       "      <td>289163.437101</td>\n",
       "      <td>2.180176</td>\n",
       "      <td>5.866762</td>\n",
       "      <td>65.612388</td>\n",
       "    </tr>\n",
       "    <tr>\n",
       "      <th>2</th>\n",
       "      <td>13681.524783</td>\n",
       "      <td>284874.361834</td>\n",
       "      <td>3.352600</td>\n",
       "      <td>5.958240</td>\n",
       "      <td>189.337670</td>\n",
       "    </tr>\n",
       "    <tr>\n",
       "      <th>3</th>\n",
       "      <td>14003.534497</td>\n",
       "      <td>289719.502909</td>\n",
       "      <td>3.052933</td>\n",
       "      <td>6.042810</td>\n",
       "      <td>168.189942</td>\n",
       "    </tr>\n",
       "    <tr>\n",
       "      <th>4</th>\n",
       "      <td>13902.661341</td>\n",
       "      <td>296493.706937</td>\n",
       "      <td>2.784293</td>\n",
       "      <td>6.117537</td>\n",
       "      <td>120.299299</td>\n",
       "    </tr>\n",
       "    <tr>\n",
       "      <th>5</th>\n",
       "      <td>13458.068633</td>\n",
       "      <td>293177.639678</td>\n",
       "      <td>3.123663</td>\n",
       "      <td>6.003539</td>\n",
       "      <td>230.502413</td>\n",
       "    </tr>\n",
       "    <tr>\n",
       "      <th>6</th>\n",
       "      <td>13376.954755</td>\n",
       "      <td>293923.416898</td>\n",
       "      <td>3.043683</td>\n",
       "      <td>6.067959</td>\n",
       "      <td>203.485688</td>\n",
       "    </tr>\n",
       "    <tr>\n",
       "      <th>7</th>\n",
       "      <td>13026.402261</td>\n",
       "      <td>291002.682846</td>\n",
       "      <td>3.585265</td>\n",
       "      <td>5.883710</td>\n",
       "      <td>304.916223</td>\n",
       "    </tr>\n",
       "    <tr>\n",
       "      <th>8</th>\n",
       "      <td>13138.877503</td>\n",
       "      <td>295222.210247</td>\n",
       "      <td>3.580677</td>\n",
       "      <td>5.908539</td>\n",
       "      <td>187.911661</td>\n",
       "    </tr>\n",
       "    <tr>\n",
       "      <th>9</th>\n",
       "      <td>13049.484099</td>\n",
       "      <td>296616.382067</td>\n",
       "      <td>3.265490</td>\n",
       "      <td>5.955300</td>\n",
       "      <td>167.389134</td>\n",
       "    </tr>\n",
       "    <tr>\n",
       "      <th>10</th>\n",
       "      <td>13201.364415</td>\n",
       "      <td>305666.099835</td>\n",
       "      <td>3.081957</td>\n",
       "      <td>5.913740</td>\n",
       "      <td>155.357496</td>\n",
       "    </tr>\n",
       "    <tr>\n",
       "      <th>11</th>\n",
       "      <td>12608.549187</td>\n",
       "      <td>290284.134303</td>\n",
       "      <td>3.459795</td>\n",
       "      <td>6.127459</td>\n",
       "      <td>311.848589</td>\n",
       "    </tr>\n",
       "    <tr>\n",
       "      <th>12</th>\n",
       "      <td>13553.141006</td>\n",
       "      <td>311166.230171</td>\n",
       "      <td>3.922681</td>\n",
       "      <td>6.046812</td>\n",
       "      <td>361.810264</td>\n",
       "    </tr>\n",
       "  </tbody>\n",
       "</table>\n",
       "</div>"
      ],
      "text/plain": [
       "           Unnamed: 0             id  popularity  vote_average  vote_count\n",
       "monthof                                                                   \n",
       "1        12421.901980  289163.437101    2.180176      5.866762   65.612388\n",
       "2        13681.524783  284874.361834    3.352600      5.958240  189.337670\n",
       "3        14003.534497  289719.502909    3.052933      6.042810  168.189942\n",
       "4        13902.661341  296493.706937    2.784293      6.117537  120.299299\n",
       "5        13458.068633  293177.639678    3.123663      6.003539  230.502413\n",
       "6        13376.954755  293923.416898    3.043683      6.067959  203.485688\n",
       "7        13026.402261  291002.682846    3.585265      5.883710  304.916223\n",
       "8        13138.877503  295222.210247    3.580677      5.908539  187.911661\n",
       "9        13049.484099  296616.382067    3.265490      5.955300  167.389134\n",
       "10       13201.364415  305666.099835    3.081957      5.913740  155.357496\n",
       "11       12608.549187  290284.134303    3.459795      6.127459  311.848589\n",
       "12       13553.141006  311166.230171    3.922681      6.046812  361.810264"
      ]
     },
     "execution_count": 81,
     "metadata": {},
     "output_type": "execute_result"
    }
   ],
   "source": [
    "mo.groupby(['monthof']).mean()"
   ]
  },
  {
   "cell_type": "markdown",
   "metadata": {},
   "source": [
    "## What genres of movies make the highest domestic and foreign gross income?\n",
    "Joins Genres DF + Gross"
   ]
  },
  {
   "cell_type": "code",
   "execution_count": 22,
   "metadata": {
    "scrolled": true
   },
   "outputs": [
    {
     "name": "stdout",
     "output_type": "stream",
     "text": [
      "<class 'pandas.core.frame.DataFrame'>\n",
      "RangeIndex: 3387 entries, 0 to 3386\n",
      "Data columns (total 5 columns):\n",
      " #   Column          Non-Null Count  Dtype  \n",
      "---  ------          --------------  -----  \n",
      " 0   title           3387 non-null   object \n",
      " 1   studio          3382 non-null   object \n",
      " 2   domestic_gross  3359 non-null   float64\n",
      " 3   foreign_gross   2037 non-null   object \n",
      " 4   year            3387 non-null   int64  \n",
      "dtypes: float64(1), int64(1), object(3)\n",
      "memory usage: 132.4+ KB\n"
     ]
    }
   ],
   "source": [
    "gs.info()"
   ]
  },
  {
   "cell_type": "code",
   "execution_count": 23,
   "metadata": {},
   "outputs": [
    {
     "data": {
      "text/plain": [
       "0       415000000.0\n",
       "1       334200000.0\n",
       "2       296000000.0\n",
       "3       292600000.0\n",
       "4       238700000.0\n",
       "           ...     \n",
       "3382         6200.0\n",
       "3383         4800.0\n",
       "3384         2500.0\n",
       "3385         2400.0\n",
       "3386         1700.0\n",
       "Name: domestic_gross, Length: 3387, dtype: float64"
      ]
     },
     "execution_count": 23,
     "metadata": {},
     "output_type": "execute_result"
    }
   ],
   "source": [
    "gs['domestic_gross']"
   ]
  },
  {
   "cell_type": "code",
   "execution_count": 24,
   "metadata": {},
   "outputs": [
    {
     "data": {
      "text/plain": [
       "0       652000000\n",
       "1       691300000\n",
       "2       664300000\n",
       "3       535700000\n",
       "4       513900000\n",
       "          ...    \n",
       "3382          NaN\n",
       "3383          NaN\n",
       "3384          NaN\n",
       "3385          NaN\n",
       "3386          NaN\n",
       "Name: foreign_gross, Length: 3387, dtype: object"
      ]
     },
     "execution_count": 24,
     "metadata": {},
     "output_type": "execute_result"
    }
   ],
   "source": [
    "gs['foreign_gross']\n",
    "#The end of this has some NaNs, so this may need to be further explored and cleaned "
   ]
  },
  {
   "cell_type": "code",
   "execution_count": 25,
   "metadata": {},
   "outputs": [
    {
     "data": {
      "text/html": [
       "<div>\n",
       "<style scoped>\n",
       "    .dataframe tbody tr th:only-of-type {\n",
       "        vertical-align: middle;\n",
       "    }\n",
       "\n",
       "    .dataframe tbody tr th {\n",
       "        vertical-align: top;\n",
       "    }\n",
       "\n",
       "    .dataframe thead th {\n",
       "        text-align: right;\n",
       "    }\n",
       "</style>\n",
       "<table border=\"1\" class=\"dataframe\">\n",
       "  <thead>\n",
       "    <tr style=\"text-align: right;\">\n",
       "      <th></th>\n",
       "      <th>tconst</th>\n",
       "      <th>primary_title</th>\n",
       "      <th>original_title</th>\n",
       "      <th>start_year</th>\n",
       "      <th>runtime_minutes</th>\n",
       "      <th>genres</th>\n",
       "    </tr>\n",
       "  </thead>\n",
       "  <tbody>\n",
       "    <tr>\n",
       "      <th>0</th>\n",
       "      <td>tt0063540</td>\n",
       "      <td>Sunghursh</td>\n",
       "      <td>Sunghursh</td>\n",
       "      <td>2013</td>\n",
       "      <td>175.0</td>\n",
       "      <td>Action</td>\n",
       "    </tr>\n",
       "    <tr>\n",
       "      <th>0</th>\n",
       "      <td>tt0063540</td>\n",
       "      <td>Sunghursh</td>\n",
       "      <td>Sunghursh</td>\n",
       "      <td>2013</td>\n",
       "      <td>175.0</td>\n",
       "      <td>Crime</td>\n",
       "    </tr>\n",
       "    <tr>\n",
       "      <th>0</th>\n",
       "      <td>tt0063540</td>\n",
       "      <td>Sunghursh</td>\n",
       "      <td>Sunghursh</td>\n",
       "      <td>2013</td>\n",
       "      <td>175.0</td>\n",
       "      <td>Drama</td>\n",
       "    </tr>\n",
       "    <tr>\n",
       "      <th>1</th>\n",
       "      <td>tt0066787</td>\n",
       "      <td>One Day Before the Rainy Season</td>\n",
       "      <td>Ashad Ka Ek Din</td>\n",
       "      <td>2019</td>\n",
       "      <td>114.0</td>\n",
       "      <td>Biography</td>\n",
       "    </tr>\n",
       "    <tr>\n",
       "      <th>1</th>\n",
       "      <td>tt0066787</td>\n",
       "      <td>One Day Before the Rainy Season</td>\n",
       "      <td>Ashad Ka Ek Din</td>\n",
       "      <td>2019</td>\n",
       "      <td>114.0</td>\n",
       "      <td>Drama</td>\n",
       "    </tr>\n",
       "  </tbody>\n",
       "</table>\n",
       "</div>"
      ],
      "text/plain": [
       "      tconst                    primary_title   original_title  start_year  \\\n",
       "0  tt0063540                        Sunghursh        Sunghursh        2013   \n",
       "0  tt0063540                        Sunghursh        Sunghursh        2013   \n",
       "0  tt0063540                        Sunghursh        Sunghursh        2013   \n",
       "1  tt0066787  One Day Before the Rainy Season  Ashad Ka Ek Din        2019   \n",
       "1  tt0066787  One Day Before the Rainy Season  Ashad Ka Ek Din        2019   \n",
       "\n",
       "   runtime_minutes     genres  \n",
       "0            175.0     Action  \n",
       "0            175.0      Crime  \n",
       "0            175.0      Drama  \n",
       "1            114.0  Biography  \n",
       "1            114.0      Drama  "
      ]
     },
     "execution_count": 25,
     "metadata": {},
     "output_type": "execute_result"
    }
   ],
   "source": [
    "genres_df = pd.read_csv('data/zippedData/imdb.title.basics.csv.gz')\n",
    "genres_df.dropna(subset=['genres'], inplace=True)\n",
    "genres_df['genres'] = genres_df['genres'].apply(lambda x: x.split(','))\n",
    "genres_df = genres_df.explode('genres')\n",
    "genres_df.head(5)"
   ]
  },
  {
   "cell_type": "code",
   "execution_count": 26,
   "metadata": {},
   "outputs": [
    {
     "data": {
      "text/html": [
       "<div>\n",
       "<style scoped>\n",
       "    .dataframe tbody tr th:only-of-type {\n",
       "        vertical-align: middle;\n",
       "    }\n",
       "\n",
       "    .dataframe tbody tr th {\n",
       "        vertical-align: top;\n",
       "    }\n",
       "\n",
       "    .dataframe thead th {\n",
       "        text-align: right;\n",
       "    }\n",
       "</style>\n",
       "<table border=\"1\" class=\"dataframe\">\n",
       "  <thead>\n",
       "    <tr style=\"text-align: right;\">\n",
       "      <th></th>\n",
       "      <th>tconst</th>\n",
       "      <th>primary_title</th>\n",
       "      <th>original_title</th>\n",
       "      <th>start_year</th>\n",
       "      <th>runtime_minutes</th>\n",
       "      <th>genres</th>\n",
       "      <th>title</th>\n",
       "      <th>studio</th>\n",
       "      <th>domestic_gross</th>\n",
       "      <th>foreign_gross</th>\n",
       "      <th>year</th>\n",
       "    </tr>\n",
       "  </thead>\n",
       "  <tbody>\n",
       "    <tr>\n",
       "      <th>0</th>\n",
       "      <td>tt0315642</td>\n",
       "      <td>Wazir</td>\n",
       "      <td>Wazir</td>\n",
       "      <td>2016</td>\n",
       "      <td>103.0</td>\n",
       "      <td>Action</td>\n",
       "      <td>Wazir</td>\n",
       "      <td>Relbig.</td>\n",
       "      <td>1100000.0</td>\n",
       "      <td>NaN</td>\n",
       "      <td>2016</td>\n",
       "    </tr>\n",
       "    <tr>\n",
       "      <th>1</th>\n",
       "      <td>tt0315642</td>\n",
       "      <td>Wazir</td>\n",
       "      <td>Wazir</td>\n",
       "      <td>2016</td>\n",
       "      <td>103.0</td>\n",
       "      <td>Crime</td>\n",
       "      <td>Wazir</td>\n",
       "      <td>Relbig.</td>\n",
       "      <td>1100000.0</td>\n",
       "      <td>NaN</td>\n",
       "      <td>2016</td>\n",
       "    </tr>\n",
       "    <tr>\n",
       "      <th>2</th>\n",
       "      <td>tt0315642</td>\n",
       "      <td>Wazir</td>\n",
       "      <td>Wazir</td>\n",
       "      <td>2016</td>\n",
       "      <td>103.0</td>\n",
       "      <td>Drama</td>\n",
       "      <td>Wazir</td>\n",
       "      <td>Relbig.</td>\n",
       "      <td>1100000.0</td>\n",
       "      <td>NaN</td>\n",
       "      <td>2016</td>\n",
       "    </tr>\n",
       "    <tr>\n",
       "      <th>3</th>\n",
       "      <td>tt0337692</td>\n",
       "      <td>On the Road</td>\n",
       "      <td>On the Road</td>\n",
       "      <td>2012</td>\n",
       "      <td>124.0</td>\n",
       "      <td>Adventure</td>\n",
       "      <td>On the Road</td>\n",
       "      <td>IFC</td>\n",
       "      <td>744000.0</td>\n",
       "      <td>8000000</td>\n",
       "      <td>2012</td>\n",
       "    </tr>\n",
       "    <tr>\n",
       "      <th>4</th>\n",
       "      <td>tt0337692</td>\n",
       "      <td>On the Road</td>\n",
       "      <td>On the Road</td>\n",
       "      <td>2012</td>\n",
       "      <td>124.0</td>\n",
       "      <td>Drama</td>\n",
       "      <td>On the Road</td>\n",
       "      <td>IFC</td>\n",
       "      <td>744000.0</td>\n",
       "      <td>8000000</td>\n",
       "      <td>2012</td>\n",
       "    </tr>\n",
       "    <tr>\n",
       "      <th>...</th>\n",
       "      <td>...</td>\n",
       "      <td>...</td>\n",
       "      <td>...</td>\n",
       "      <td>...</td>\n",
       "      <td>...</td>\n",
       "      <td>...</td>\n",
       "      <td>...</td>\n",
       "      <td>...</td>\n",
       "      <td>...</td>\n",
       "      <td>...</td>\n",
       "      <td>...</td>\n",
       "    </tr>\n",
       "    <tr>\n",
       "      <th>6222</th>\n",
       "      <td>tt8851262</td>\n",
       "      <td>Spring Fever</td>\n",
       "      <td>Spring Fever</td>\n",
       "      <td>2019</td>\n",
       "      <td>NaN</td>\n",
       "      <td>Horror</td>\n",
       "      <td>Spring Fever</td>\n",
       "      <td>Strand</td>\n",
       "      <td>10800.0</td>\n",
       "      <td>150000</td>\n",
       "      <td>2010</td>\n",
       "    </tr>\n",
       "    <tr>\n",
       "      <th>6223</th>\n",
       "      <td>tt9151704</td>\n",
       "      <td>Burn the Stage: The Movie</td>\n",
       "      <td>Burn the Stage: The Movie</td>\n",
       "      <td>2018</td>\n",
       "      <td>84.0</td>\n",
       "      <td>Documentary</td>\n",
       "      <td>Burn the Stage: The Movie</td>\n",
       "      <td>Trafalgar</td>\n",
       "      <td>4200000.0</td>\n",
       "      <td>16100000</td>\n",
       "      <td>2018</td>\n",
       "    </tr>\n",
       "    <tr>\n",
       "      <th>6224</th>\n",
       "      <td>tt9151704</td>\n",
       "      <td>Burn the Stage: The Movie</td>\n",
       "      <td>Burn the Stage: The Movie</td>\n",
       "      <td>2018</td>\n",
       "      <td>84.0</td>\n",
       "      <td>Music</td>\n",
       "      <td>Burn the Stage: The Movie</td>\n",
       "      <td>Trafalgar</td>\n",
       "      <td>4200000.0</td>\n",
       "      <td>16100000</td>\n",
       "      <td>2018</td>\n",
       "    </tr>\n",
       "    <tr>\n",
       "      <th>6225</th>\n",
       "      <td>tt9805754</td>\n",
       "      <td>Double Trouble</td>\n",
       "      <td>Double Trouble</td>\n",
       "      <td>2013</td>\n",
       "      <td>99.0</td>\n",
       "      <td>Comedy</td>\n",
       "      <td>Double Trouble</td>\n",
       "      <td>CL</td>\n",
       "      <td>44800.0</td>\n",
       "      <td>NaN</td>\n",
       "      <td>2012</td>\n",
       "    </tr>\n",
       "    <tr>\n",
       "      <th>6226</th>\n",
       "      <td>tt9805754</td>\n",
       "      <td>Double Trouble</td>\n",
       "      <td>Double Trouble</td>\n",
       "      <td>2013</td>\n",
       "      <td>99.0</td>\n",
       "      <td>Family</td>\n",
       "      <td>Double Trouble</td>\n",
       "      <td>CL</td>\n",
       "      <td>44800.0</td>\n",
       "      <td>NaN</td>\n",
       "      <td>2012</td>\n",
       "    </tr>\n",
       "  </tbody>\n",
       "</table>\n",
       "<p>6227 rows × 11 columns</p>\n",
       "</div>"
      ],
      "text/plain": [
       "         tconst              primary_title             original_title  \\\n",
       "0     tt0315642                      Wazir                      Wazir   \n",
       "1     tt0315642                      Wazir                      Wazir   \n",
       "2     tt0315642                      Wazir                      Wazir   \n",
       "3     tt0337692                On the Road                On the Road   \n",
       "4     tt0337692                On the Road                On the Road   \n",
       "...         ...                        ...                        ...   \n",
       "6222  tt8851262               Spring Fever               Spring Fever   \n",
       "6223  tt9151704  Burn the Stage: The Movie  Burn the Stage: The Movie   \n",
       "6224  tt9151704  Burn the Stage: The Movie  Burn the Stage: The Movie   \n",
       "6225  tt9805754             Double Trouble             Double Trouble   \n",
       "6226  tt9805754             Double Trouble             Double Trouble   \n",
       "\n",
       "      start_year  runtime_minutes       genres                      title  \\\n",
       "0           2016            103.0       Action                      Wazir   \n",
       "1           2016            103.0        Crime                      Wazir   \n",
       "2           2016            103.0        Drama                      Wazir   \n",
       "3           2012            124.0    Adventure                On the Road   \n",
       "4           2012            124.0        Drama                On the Road   \n",
       "...          ...              ...          ...                        ...   \n",
       "6222        2019              NaN       Horror               Spring Fever   \n",
       "6223        2018             84.0  Documentary  Burn the Stage: The Movie   \n",
       "6224        2018             84.0        Music  Burn the Stage: The Movie   \n",
       "6225        2013             99.0       Comedy             Double Trouble   \n",
       "6226        2013             99.0       Family             Double Trouble   \n",
       "\n",
       "         studio  domestic_gross foreign_gross  year  \n",
       "0       Relbig.       1100000.0           NaN  2016  \n",
       "1       Relbig.       1100000.0           NaN  2016  \n",
       "2       Relbig.       1100000.0           NaN  2016  \n",
       "3           IFC        744000.0       8000000  2012  \n",
       "4           IFC        744000.0       8000000  2012  \n",
       "...         ...             ...           ...   ...  \n",
       "6222     Strand         10800.0        150000  2010  \n",
       "6223  Trafalgar       4200000.0      16100000  2018  \n",
       "6224  Trafalgar       4200000.0      16100000  2018  \n",
       "6225         CL         44800.0           NaN  2012  \n",
       "6226         CL         44800.0           NaN  2012  \n",
       "\n",
       "[6227 rows x 11 columns]"
      ]
     },
     "execution_count": 26,
     "metadata": {},
     "output_type": "execute_result"
    }
   ],
   "source": [
    "joined_df = genres_df.merge(gs, left_on= 'original_title', right_on= 'title', how='inner')\n",
    "#joined_df = genres_df.join(gs, how='outer')\n",
    "#print(joined_df)\n",
    "joined_df"
   ]
  },
  {
   "cell_type": "code",
   "execution_count": 27,
   "metadata": {},
   "outputs": [
    {
     "data": {
      "text/html": [
       "<div>\n",
       "<style scoped>\n",
       "    .dataframe tbody tr th:only-of-type {\n",
       "        vertical-align: middle;\n",
       "    }\n",
       "\n",
       "    .dataframe tbody tr th {\n",
       "        vertical-align: top;\n",
       "    }\n",
       "\n",
       "    .dataframe thead th {\n",
       "        text-align: right;\n",
       "    }\n",
       "</style>\n",
       "<table border=\"1\" class=\"dataframe\">\n",
       "  <thead>\n",
       "    <tr style=\"text-align: right;\">\n",
       "      <th></th>\n",
       "      <th>start_year</th>\n",
       "      <th>runtime_minutes</th>\n",
       "      <th>domestic_gross</th>\n",
       "      <th>year</th>\n",
       "    </tr>\n",
       "    <tr>\n",
       "      <th>genres</th>\n",
       "      <th></th>\n",
       "      <th></th>\n",
       "      <th></th>\n",
       "      <th></th>\n",
       "    </tr>\n",
       "  </thead>\n",
       "  <tbody>\n",
       "    <tr>\n",
       "      <th>News</th>\n",
       "      <td>2013.166667</td>\n",
       "      <td>68.500000</td>\n",
       "      <td>3.640900e+06</td>\n",
       "      <td>2013.333333</td>\n",
       "    </tr>\n",
       "    <tr>\n",
       "      <th>War</th>\n",
       "      <td>2013.781250</td>\n",
       "      <td>113.666667</td>\n",
       "      <td>8.235853e+06</td>\n",
       "      <td>2014.375000</td>\n",
       "    </tr>\n",
       "    <tr>\n",
       "      <th>Documentary</th>\n",
       "      <td>2014.107143</td>\n",
       "      <td>76.906897</td>\n",
       "      <td>1.668892e+07</td>\n",
       "      <td>2013.902597</td>\n",
       "    </tr>\n",
       "    <tr>\n",
       "      <th>Romance</th>\n",
       "      <td>2013.443878</td>\n",
       "      <td>109.023499</td>\n",
       "      <td>1.720356e+07</td>\n",
       "      <td>2013.612245</td>\n",
       "    </tr>\n",
       "    <tr>\n",
       "      <th>Music</th>\n",
       "      <td>2014.188889</td>\n",
       "      <td>106.855556</td>\n",
       "      <td>1.916142e+07</td>\n",
       "      <td>2014.388889</td>\n",
       "    </tr>\n",
       "    <tr>\n",
       "      <th>Drama</th>\n",
       "      <td>2013.929932</td>\n",
       "      <td>108.716513</td>\n",
       "      <td>2.053186e+07</td>\n",
       "      <td>2014.066667</td>\n",
       "    </tr>\n",
       "    <tr>\n",
       "      <th>Biography</th>\n",
       "      <td>2014.429603</td>\n",
       "      <td>106.855596</td>\n",
       "      <td>2.268838e+07</td>\n",
       "      <td>2014.660650</td>\n",
       "    </tr>\n",
       "    <tr>\n",
       "      <th>History</th>\n",
       "      <td>2014.441441</td>\n",
       "      <td>106.693694</td>\n",
       "      <td>2.584890e+07</td>\n",
       "      <td>2014.603604</td>\n",
       "    </tr>\n",
       "    <tr>\n",
       "      <th>Crime</th>\n",
       "      <td>2013.686391</td>\n",
       "      <td>109.772455</td>\n",
       "      <td>2.631423e+07</td>\n",
       "      <td>2013.899408</td>\n",
       "    </tr>\n",
       "    <tr>\n",
       "      <th>Mystery</th>\n",
       "      <td>2014.026178</td>\n",
       "      <td>101.718085</td>\n",
       "      <td>2.662403e+07</td>\n",
       "      <td>2014.062827</td>\n",
       "    </tr>\n",
       "    <tr>\n",
       "      <th>Western</th>\n",
       "      <td>2013.473684</td>\n",
       "      <td>108.555556</td>\n",
       "      <td>2.779028e+07</td>\n",
       "      <td>2013.684211</td>\n",
       "    </tr>\n",
       "    <tr>\n",
       "      <th>Horror</th>\n",
       "      <td>2014.244898</td>\n",
       "      <td>99.151515</td>\n",
       "      <td>2.985570e+07</td>\n",
       "      <td>2014.281633</td>\n",
       "    </tr>\n",
       "    <tr>\n",
       "      <th>Thriller</th>\n",
       "      <td>2013.841975</td>\n",
       "      <td>105.681347</td>\n",
       "      <td>3.225699e+07</td>\n",
       "      <td>2013.837037</td>\n",
       "    </tr>\n",
       "    <tr>\n",
       "      <th>Musical</th>\n",
       "      <td>2012.937500</td>\n",
       "      <td>126.428571</td>\n",
       "      <td>3.441742e+07</td>\n",
       "      <td>2013.312500</td>\n",
       "    </tr>\n",
       "    <tr>\n",
       "      <th>Sport</th>\n",
       "      <td>2014.224138</td>\n",
       "      <td>110.947368</td>\n",
       "      <td>3.659431e+07</td>\n",
       "      <td>2014.120690</td>\n",
       "    </tr>\n",
       "    <tr>\n",
       "      <th>Comedy</th>\n",
       "      <td>2013.667874</td>\n",
       "      <td>104.841388</td>\n",
       "      <td>3.873630e+07</td>\n",
       "      <td>2013.757246</td>\n",
       "    </tr>\n",
       "    <tr>\n",
       "      <th>Family</th>\n",
       "      <td>2013.188034</td>\n",
       "      <td>101.552632</td>\n",
       "      <td>4.770763e+07</td>\n",
       "      <td>2013.401709</td>\n",
       "    </tr>\n",
       "    <tr>\n",
       "      <th>Fantasy</th>\n",
       "      <td>2013.943262</td>\n",
       "      <td>110.014706</td>\n",
       "      <td>5.826754e+07</td>\n",
       "      <td>2013.914894</td>\n",
       "    </tr>\n",
       "    <tr>\n",
       "      <th>Action</th>\n",
       "      <td>2013.996330</td>\n",
       "      <td>114.725564</td>\n",
       "      <td>6.606969e+07</td>\n",
       "      <td>2013.943119</td>\n",
       "    </tr>\n",
       "    <tr>\n",
       "      <th>Adventure</th>\n",
       "      <td>2014.144330</td>\n",
       "      <td>109.139535</td>\n",
       "      <td>1.035998e+08</td>\n",
       "      <td>2014.221649</td>\n",
       "    </tr>\n",
       "    <tr>\n",
       "      <th>Sci-Fi</th>\n",
       "      <td>2013.893939</td>\n",
       "      <td>113.684615</td>\n",
       "      <td>1.061295e+08</td>\n",
       "      <td>2014.030303</td>\n",
       "    </tr>\n",
       "    <tr>\n",
       "      <th>Animation</th>\n",
       "      <td>2014.152542</td>\n",
       "      <td>93.267241</td>\n",
       "      <td>1.133723e+08</td>\n",
       "      <td>2014.177966</td>\n",
       "    </tr>\n",
       "  </tbody>\n",
       "</table>\n",
       "</div>"
      ],
      "text/plain": [
       "              start_year  runtime_minutes  domestic_gross         year\n",
       "genres                                                                \n",
       "News         2013.166667        68.500000    3.640900e+06  2013.333333\n",
       "War          2013.781250       113.666667    8.235853e+06  2014.375000\n",
       "Documentary  2014.107143        76.906897    1.668892e+07  2013.902597\n",
       "Romance      2013.443878       109.023499    1.720356e+07  2013.612245\n",
       "Music        2014.188889       106.855556    1.916142e+07  2014.388889\n",
       "Drama        2013.929932       108.716513    2.053186e+07  2014.066667\n",
       "Biography    2014.429603       106.855596    2.268838e+07  2014.660650\n",
       "History      2014.441441       106.693694    2.584890e+07  2014.603604\n",
       "Crime        2013.686391       109.772455    2.631423e+07  2013.899408\n",
       "Mystery      2014.026178       101.718085    2.662403e+07  2014.062827\n",
       "Western      2013.473684       108.555556    2.779028e+07  2013.684211\n",
       "Horror       2014.244898        99.151515    2.985570e+07  2014.281633\n",
       "Thriller     2013.841975       105.681347    3.225699e+07  2013.837037\n",
       "Musical      2012.937500       126.428571    3.441742e+07  2013.312500\n",
       "Sport        2014.224138       110.947368    3.659431e+07  2014.120690\n",
       "Comedy       2013.667874       104.841388    3.873630e+07  2013.757246\n",
       "Family       2013.188034       101.552632    4.770763e+07  2013.401709\n",
       "Fantasy      2013.943262       110.014706    5.826754e+07  2013.914894\n",
       "Action       2013.996330       114.725564    6.606969e+07  2013.943119\n",
       "Adventure    2014.144330       109.139535    1.035998e+08  2014.221649\n",
       "Sci-Fi       2013.893939       113.684615    1.061295e+08  2014.030303\n",
       "Animation    2014.152542        93.267241    1.133723e+08  2014.177966"
      ]
     },
     "execution_count": 27,
     "metadata": {},
     "output_type": "execute_result"
    }
   ],
   "source": [
    "joined_df.groupby(['genres']).mean().sort_values(\"domestic_gross\")"
   ]
  },
  {
   "cell_type": "markdown",
   "metadata": {},
   "source": [
    "#joined_df.groupby(['genres']).mean().sort_values(\"foreign_gross\") needs to be cleaned"
   ]
  },
  {
   "cell_type": "markdown",
   "metadata": {},
   "source": [
    "## Which movies have the highest ROI?"
   ]
  },
  {
   "cell_type": "code",
   "execution_count": 36,
   "metadata": {},
   "outputs": [
    {
     "name": "stdout",
     "output_type": "stream",
     "text": [
      "<class 'pandas.core.frame.DataFrame'>\n",
      "RangeIndex: 5782 entries, 0 to 5781\n",
      "Data columns (total 6 columns):\n",
      " #   Column             Non-Null Count  Dtype \n",
      "---  ------             --------------  ----- \n",
      " 0   id                 5782 non-null   int64 \n",
      " 1   release_date       5782 non-null   object\n",
      " 2   movie              5782 non-null   object\n",
      " 3   production_budget  5782 non-null   object\n",
      " 4   domestic_gross     5782 non-null   object\n",
      " 5   worldwide_gross    5782 non-null   object\n",
      "dtypes: int64(1), object(5)\n",
      "memory usage: 271.2+ KB\n"
     ]
    }
   ],
   "source": [
    "bud.info()"
   ]
  },
  {
   "cell_type": "code",
   "execution_count": 37,
   "metadata": {},
   "outputs": [
    {
     "data": {
      "text/plain": [
       "0       $425,000,000\n",
       "1       $410,600,000\n",
       "2       $350,000,000\n",
       "3       $330,600,000\n",
       "4       $317,000,000\n",
       "            ...     \n",
       "5777          $7,000\n",
       "5778          $6,000\n",
       "5779          $5,000\n",
       "5780          $1,400\n",
       "5781          $1,100\n",
       "Name: production_budget, Length: 5782, dtype: object"
      ]
     },
     "execution_count": 37,
     "metadata": {},
     "output_type": "execute_result"
    }
   ],
   "source": [
    "bud['production_budget']"
   ]
  },
  {
   "cell_type": "code",
   "execution_count": 38,
   "metadata": {},
   "outputs": [
    {
     "data": {
      "text/plain": [
       "0       $760,507,625\n",
       "1       $241,063,875\n",
       "2        $42,762,350\n",
       "3       $459,005,868\n",
       "4       $620,181,382\n",
       "            ...     \n",
       "5777              $0\n",
       "5778         $48,482\n",
       "5779          $1,338\n",
       "5780              $0\n",
       "5781        $181,041\n",
       "Name: domestic_gross, Length: 5782, dtype: object"
      ]
     },
     "execution_count": 38,
     "metadata": {},
     "output_type": "execute_result"
    }
   ],
   "source": [
    "bud['domestic_gross']"
   ]
  },
  {
   "cell_type": "code",
   "execution_count": 41,
   "metadata": {},
   "outputs": [
    {
     "data": {
      "text/plain": [
       "0       $2,776,345,279\n",
       "1       $1,045,663,875\n",
       "2         $149,762,350\n",
       "3       $1,403,013,963\n",
       "4       $1,316,721,747\n",
       "             ...      \n",
       "5777                $0\n",
       "5778          $240,495\n",
       "5779            $1,338\n",
       "5780                $0\n",
       "5781          $181,041\n",
       "Name: worldwide_gross, Length: 5782, dtype: object"
      ]
     },
     "execution_count": 41,
     "metadata": {},
     "output_type": "execute_result"
    }
   ],
   "source": [
    "bud['worldwide_gross']"
   ]
  },
  {
   "cell_type": "code",
   "execution_count": 58,
   "metadata": {},
   "outputs": [
    {
     "data": {
      "text/plain": [
       "0    Dec 18, 2009\n",
       "1    May 20, 2011\n",
       "2     Jun 7, 2019\n",
       "3     May 1, 2015\n",
       "4    Dec 15, 2017\n",
       "Name: release_date, dtype: object"
      ]
     },
     "execution_count": 58,
     "metadata": {},
     "output_type": "execute_result"
    }
   ],
   "source": [
    "bud['release_date'].head()"
   ]
  },
  {
   "cell_type": "code",
   "execution_count": 59,
   "metadata": {},
   "outputs": [
    {
     "data": {
      "text/plain": [
       "<bound method NDFrame.head of 0      2009-12-18\n",
       "1      2011-05-20\n",
       "2      2019-06-07\n",
       "3      2015-05-01\n",
       "4      2017-12-15\n",
       "          ...    \n",
       "5777   2018-12-31\n",
       "5778   1999-04-02\n",
       "5779   2005-07-13\n",
       "5780   2015-09-29\n",
       "5781   2005-08-05\n",
       "Name: release_date, Length: 5782, dtype: datetime64[ns]>"
      ]
     },
     "execution_count": 59,
     "metadata": {},
     "output_type": "execute_result"
    }
   ],
   "source": [
    "pd.to_datetime(bud['release_date']).head"
   ]
  },
  {
   "cell_type": "code",
   "execution_count": 63,
   "metadata": {},
   "outputs": [
    {
     "data": {
      "text/plain": [
       "0       12\n",
       "1        5\n",
       "2        6\n",
       "3        5\n",
       "4       12\n",
       "        ..\n",
       "5777    12\n",
       "5778     4\n",
       "5779     7\n",
       "5780     9\n",
       "5781     8\n",
       "Name: monthof, Length: 5782, dtype: int64"
      ]
     },
     "execution_count": 63,
     "metadata": {},
     "output_type": "execute_result"
    }
   ],
   "source": [
    "bud['monthof']=pd.to_datetime(bud['release_date']).dt.month\n",
    "bud['monthof']"
   ]
  },
  {
   "cell_type": "code",
   "execution_count": 78,
   "metadata": {},
   "outputs": [
    {
     "data": {
      "text/html": [
       "<div>\n",
       "<style scoped>\n",
       "    .dataframe tbody tr th:only-of-type {\n",
       "        vertical-align: middle;\n",
       "    }\n",
       "\n",
       "    .dataframe tbody tr th {\n",
       "        vertical-align: top;\n",
       "    }\n",
       "\n",
       "    .dataframe thead th {\n",
       "        text-align: right;\n",
       "    }\n",
       "</style>\n",
       "<table border=\"1\" class=\"dataframe\">\n",
       "  <thead>\n",
       "    <tr style=\"text-align: right;\">\n",
       "      <th></th>\n",
       "      <th></th>\n",
       "      <th>id</th>\n",
       "    </tr>\n",
       "    <tr>\n",
       "      <th>monthof</th>\n",
       "      <th>production_budget</th>\n",
       "      <th></th>\n",
       "    </tr>\n",
       "  </thead>\n",
       "  <tbody>\n",
       "    <tr>\n",
       "      <th rowspan=\"5\" valign=\"top\">1</th>\n",
       "      <th>$1,000,000</th>\n",
       "      <td>36.142857</td>\n",
       "    </tr>\n",
       "    <tr>\n",
       "      <th>$1,039,000</th>\n",
       "      <td>10.000000</td>\n",
       "    </tr>\n",
       "    <tr>\n",
       "      <th>$1,200,000</th>\n",
       "      <td>71.000000</td>\n",
       "    </tr>\n",
       "    <tr>\n",
       "      <th>$1,250,000</th>\n",
       "      <td>54.500000</td>\n",
       "    </tr>\n",
       "    <tr>\n",
       "      <th>$1,300,000</th>\n",
       "      <td>38.000000</td>\n",
       "    </tr>\n",
       "    <tr>\n",
       "      <th>...</th>\n",
       "      <th>...</th>\n",
       "      <td>...</td>\n",
       "    </tr>\n",
       "    <tr>\n",
       "      <th rowspan=\"5\" valign=\"top\">12</th>\n",
       "      <th>$92,000,000</th>\n",
       "      <td>36.000000</td>\n",
       "    </tr>\n",
       "    <tr>\n",
       "      <th>$94,000,000</th>\n",
       "      <td>26.500000</td>\n",
       "    </tr>\n",
       "    <tr>\n",
       "      <th>$95,000,000</th>\n",
       "      <td>18.500000</td>\n",
       "    </tr>\n",
       "    <tr>\n",
       "      <th>$950,000</th>\n",
       "      <td>31.000000</td>\n",
       "    </tr>\n",
       "    <tr>\n",
       "      <th>$97,000,000</th>\n",
       "      <td>11.000000</td>\n",
       "    </tr>\n",
       "  </tbody>\n",
       "</table>\n",
       "<p>1821 rows × 1 columns</p>\n",
       "</div>"
      ],
      "text/plain": [
       "                                  id\n",
       "monthof production_budget           \n",
       "1       $1,000,000         36.142857\n",
       "        $1,039,000         10.000000\n",
       "        $1,200,000         71.000000\n",
       "        $1,250,000         54.500000\n",
       "        $1,300,000         38.000000\n",
       "...                              ...\n",
       "12      $92,000,000        36.000000\n",
       "        $94,000,000        26.500000\n",
       "        $95,000,000        18.500000\n",
       "        $950,000           31.000000\n",
       "        $97,000,000        11.000000\n",
       "\n",
       "[1821 rows x 1 columns]"
      ]
     },
     "execution_count": 78,
     "metadata": {},
     "output_type": "execute_result"
    }
   ],
   "source": [
    "bud.groupby(['monthof','production_budget']).mean()"
   ]
  },
  {
   "cell_type": "markdown",
   "metadata": {},
   "source": [
    "## Data Modeling\n",
    "Describe and justify the process for analyzing or modeling the data.\n",
    "\n",
    "***\n",
    "Questions to consider:\n",
    "* How did you analyze or model the data?\n",
    "* How did you iterate on your initial approach to make it better?\n",
    "* Why are these choices appropriate given the data and the business problem?\n",
    "***"
   ]
  },
  {
   "cell_type": "markdown",
   "metadata": {},
   "source": [
    "### Which Release Dates (months of the year) would I recommend to Microsoft for their new films? "
   ]
  },
  {
   "cell_type": "code",
   "execution_count": 84,
   "metadata": {},
   "outputs": [
    {
     "data": {
      "text/html": [
       "<div>\n",
       "<style scoped>\n",
       "    .dataframe tbody tr th:only-of-type {\n",
       "        vertical-align: middle;\n",
       "    }\n",
       "\n",
       "    .dataframe tbody tr th {\n",
       "        vertical-align: top;\n",
       "    }\n",
       "\n",
       "    .dataframe thead th {\n",
       "        text-align: right;\n",
       "    }\n",
       "</style>\n",
       "<table border=\"1\" class=\"dataframe\">\n",
       "  <thead>\n",
       "    <tr style=\"text-align: right;\">\n",
       "      <th></th>\n",
       "      <th>Unnamed: 0</th>\n",
       "      <th>id</th>\n",
       "      <th>popularity</th>\n",
       "      <th>vote_average</th>\n",
       "      <th>vote_count</th>\n",
       "    </tr>\n",
       "    <tr>\n",
       "      <th>monthof</th>\n",
       "      <th></th>\n",
       "      <th></th>\n",
       "      <th></th>\n",
       "      <th></th>\n",
       "      <th></th>\n",
       "    </tr>\n",
       "  </thead>\n",
       "  <tbody>\n",
       "    <tr>\n",
       "      <th>1</th>\n",
       "      <td>12421.901980</td>\n",
       "      <td>289163.437101</td>\n",
       "      <td>2.180176</td>\n",
       "      <td>5.866762</td>\n",
       "      <td>65.612388</td>\n",
       "    </tr>\n",
       "    <tr>\n",
       "      <th>2</th>\n",
       "      <td>13681.524783</td>\n",
       "      <td>284874.361834</td>\n",
       "      <td>3.352600</td>\n",
       "      <td>5.958240</td>\n",
       "      <td>189.337670</td>\n",
       "    </tr>\n",
       "    <tr>\n",
       "      <th>3</th>\n",
       "      <td>14003.534497</td>\n",
       "      <td>289719.502909</td>\n",
       "      <td>3.052933</td>\n",
       "      <td>6.042810</td>\n",
       "      <td>168.189942</td>\n",
       "    </tr>\n",
       "    <tr>\n",
       "      <th>4</th>\n",
       "      <td>13902.661341</td>\n",
       "      <td>296493.706937</td>\n",
       "      <td>2.784293</td>\n",
       "      <td>6.117537</td>\n",
       "      <td>120.299299</td>\n",
       "    </tr>\n",
       "    <tr>\n",
       "      <th>5</th>\n",
       "      <td>13458.068633</td>\n",
       "      <td>293177.639678</td>\n",
       "      <td>3.123663</td>\n",
       "      <td>6.003539</td>\n",
       "      <td>230.502413</td>\n",
       "    </tr>\n",
       "    <tr>\n",
       "      <th>6</th>\n",
       "      <td>13376.954755</td>\n",
       "      <td>293923.416898</td>\n",
       "      <td>3.043683</td>\n",
       "      <td>6.067959</td>\n",
       "      <td>203.485688</td>\n",
       "    </tr>\n",
       "    <tr>\n",
       "      <th>7</th>\n",
       "      <td>13026.402261</td>\n",
       "      <td>291002.682846</td>\n",
       "      <td>3.585265</td>\n",
       "      <td>5.883710</td>\n",
       "      <td>304.916223</td>\n",
       "    </tr>\n",
       "    <tr>\n",
       "      <th>8</th>\n",
       "      <td>13138.877503</td>\n",
       "      <td>295222.210247</td>\n",
       "      <td>3.580677</td>\n",
       "      <td>5.908539</td>\n",
       "      <td>187.911661</td>\n",
       "    </tr>\n",
       "    <tr>\n",
       "      <th>9</th>\n",
       "      <td>13049.484099</td>\n",
       "      <td>296616.382067</td>\n",
       "      <td>3.265490</td>\n",
       "      <td>5.955300</td>\n",
       "      <td>167.389134</td>\n",
       "    </tr>\n",
       "    <tr>\n",
       "      <th>10</th>\n",
       "      <td>13201.364415</td>\n",
       "      <td>305666.099835</td>\n",
       "      <td>3.081957</td>\n",
       "      <td>5.913740</td>\n",
       "      <td>155.357496</td>\n",
       "    </tr>\n",
       "    <tr>\n",
       "      <th>11</th>\n",
       "      <td>12608.549187</td>\n",
       "      <td>290284.134303</td>\n",
       "      <td>3.459795</td>\n",
       "      <td>6.127459</td>\n",
       "      <td>311.848589</td>\n",
       "    </tr>\n",
       "    <tr>\n",
       "      <th>12</th>\n",
       "      <td>13553.141006</td>\n",
       "      <td>311166.230171</td>\n",
       "      <td>3.922681</td>\n",
       "      <td>6.046812</td>\n",
       "      <td>361.810264</td>\n",
       "    </tr>\n",
       "  </tbody>\n",
       "</table>\n",
       "</div>"
      ],
      "text/plain": [
       "           Unnamed: 0             id  popularity  vote_average  vote_count\n",
       "monthof                                                                   \n",
       "1        12421.901980  289163.437101    2.180176      5.866762   65.612388\n",
       "2        13681.524783  284874.361834    3.352600      5.958240  189.337670\n",
       "3        14003.534497  289719.502909    3.052933      6.042810  168.189942\n",
       "4        13902.661341  296493.706937    2.784293      6.117537  120.299299\n",
       "5        13458.068633  293177.639678    3.123663      6.003539  230.502413\n",
       "6        13376.954755  293923.416898    3.043683      6.067959  203.485688\n",
       "7        13026.402261  291002.682846    3.585265      5.883710  304.916223\n",
       "8        13138.877503  295222.210247    3.580677      5.908539  187.911661\n",
       "9        13049.484099  296616.382067    3.265490      5.955300  167.389134\n",
       "10       13201.364415  305666.099835    3.081957      5.913740  155.357496\n",
       "11       12608.549187  290284.134303    3.459795      6.127459  311.848589\n",
       "12       13553.141006  311166.230171    3.922681      6.046812  361.810264"
      ]
     },
     "execution_count": 84,
     "metadata": {},
     "output_type": "execute_result"
    }
   ],
   "source": [
    "mo.groupby(['monthof']).mean()"
   ]
  },
  {
   "cell_type": "code",
   "execution_count": 88,
   "metadata": {},
   "outputs": [
    {
     "data": {
      "text/html": [
       "<div>\n",
       "<style scoped>\n",
       "    .dataframe tbody tr th:only-of-type {\n",
       "        vertical-align: middle;\n",
       "    }\n",
       "\n",
       "    .dataframe tbody tr th {\n",
       "        vertical-align: top;\n",
       "    }\n",
       "\n",
       "    .dataframe thead th {\n",
       "        text-align: right;\n",
       "    }\n",
       "</style>\n",
       "<table border=\"1\" class=\"dataframe\">\n",
       "  <thead>\n",
       "    <tr style=\"text-align: right;\">\n",
       "      <th></th>\n",
       "      <th>Unnamed: 0</th>\n",
       "      <th>id</th>\n",
       "      <th>popularity</th>\n",
       "      <th>vote_average</th>\n",
       "      <th>vote_count</th>\n",
       "    </tr>\n",
       "    <tr>\n",
       "      <th>monthof</th>\n",
       "      <th></th>\n",
       "      <th></th>\n",
       "      <th></th>\n",
       "      <th></th>\n",
       "      <th></th>\n",
       "    </tr>\n",
       "  </thead>\n",
       "  <tbody>\n",
       "    <tr>\n",
       "      <th>1</th>\n",
       "      <td>12421.901980</td>\n",
       "      <td>289163.437101</td>\n",
       "      <td>2.180176</td>\n",
       "      <td>5.866762</td>\n",
       "      <td>65.612388</td>\n",
       "    </tr>\n",
       "    <tr>\n",
       "      <th>2</th>\n",
       "      <td>13681.524783</td>\n",
       "      <td>284874.361834</td>\n",
       "      <td>3.352600</td>\n",
       "      <td>5.958240</td>\n",
       "      <td>189.337670</td>\n",
       "    </tr>\n",
       "    <tr>\n",
       "      <th>3</th>\n",
       "      <td>14003.534497</td>\n",
       "      <td>289719.502909</td>\n",
       "      <td>3.052933</td>\n",
       "      <td>6.042810</td>\n",
       "      <td>168.189942</td>\n",
       "    </tr>\n",
       "    <tr>\n",
       "      <th>4</th>\n",
       "      <td>13902.661341</td>\n",
       "      <td>296493.706937</td>\n",
       "      <td>2.784293</td>\n",
       "      <td>6.117537</td>\n",
       "      <td>120.299299</td>\n",
       "    </tr>\n",
       "    <tr>\n",
       "      <th>5</th>\n",
       "      <td>13458.068633</td>\n",
       "      <td>293177.639678</td>\n",
       "      <td>3.123663</td>\n",
       "      <td>6.003539</td>\n",
       "      <td>230.502413</td>\n",
       "    </tr>\n",
       "  </tbody>\n",
       "</table>\n",
       "</div>"
      ],
      "text/plain": [
       "           Unnamed: 0             id  popularity  vote_average  vote_count\n",
       "monthof                                                                   \n",
       "1        12421.901980  289163.437101    2.180176      5.866762   65.612388\n",
       "2        13681.524783  284874.361834    3.352600      5.958240  189.337670\n",
       "3        14003.534497  289719.502909    3.052933      6.042810  168.189942\n",
       "4        13902.661341  296493.706937    2.784293      6.117537  120.299299\n",
       "5        13458.068633  293177.639678    3.123663      6.003539  230.502413"
      ]
     },
     "execution_count": 88,
     "metadata": {},
     "output_type": "execute_result"
    }
   ],
   "source": [
    "np.random.seed(400)\n",
    "data = mo.groupby(['monthof']).mean()\n",
    "data.head()"
   ]
  },
  {
   "cell_type": "code",
   "execution_count": 105,
   "metadata": {},
   "outputs": [
    {
     "data": {
      "image/png": "[encoded data removed]",
      "text/plain": [
       "<Figure size 432x288 with 1 Axes>"
      ]
     },
     "metadata": {
      "needs_background": "light"
     },
     "output_type": "display_data"
    }
   ],
   "source": [
    "data.plot.hist(alpha = 1);"
   ]
  },
  {
   "cell_type": "code",
   "execution_count": null,
   "metadata": {},
   "outputs": [],
   "source": []
  },
  {
   "cell_type": "code",
   "execution_count": null,
   "metadata": {},
   "outputs": [],
   "source": []
  },
  {
   "cell_type": "code",
   "execution_count": null,
   "metadata": {},
   "outputs": [],
   "source": []
  },
  {
   "cell_type": "markdown",
   "metadata": {},
   "source": [
    "## Evaluation\n",
    "Evaluate how well your work solves the stated business problem.\n",
    "\n",
    "***\n",
    "Questions to consider:\n",
    "* How do you interpret the results?\n",
    "* How well does your model fit your data? How much better is this than your baseline model?\n",
    "* How confident are you that your results would generalize beyond the data you have?\n",
    "* How confident are you that this model would benefit the business if put into use?\n",
    "***"
   ]
  },
  {
   "cell_type": "markdown",
   "metadata": {},
   "source": [
    "## Conclusions\n",
    "Provide your conclusions about the work you've done, including any limitations or next steps.\n",
    "\n",
    "***\n",
    "Questions to consider:\n",
    "* What would you recommend the business do as a result of this work?\n",
    "* What are some reasons why your analysis might not fully solve the business problem?\n",
    "* What else could you do in the future to improve this project?\n",
    "***"
   ]
  }
 ],
 "metadata": {
  "kernelspec": {
   "display_name": "Python 3",
   "language": "python",
   "name": "python3"
  },
  "language_info": {
   "codemirror_mode": {
    "name": "ipython",
    "version": 3
   },
   "file_extension": ".py",
   "mimetype": "text/x-python",
   "name": "python",
   "nbconvert_exporter": "python",
   "pygments_lexer": "ipython3",
   "version": "3.8.5"
  }
 },
 "nbformat": 4,
 "nbformat_minor": 4
}
